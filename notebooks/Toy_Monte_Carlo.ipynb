{
 "cells": [
  {
   "cell_type": "markdown",
   "metadata": {},
   "source": [
    "# Monte Carlo simulation of synthetic (toy) datasets for estimation of the uncertainty on a parameter"
   ]
  },
  {
   "cell_type": "markdown",
   "metadata": {},
   "source": [
    "Toy Monte Carlo is an often used technique to estimate the uncertainty on a parameter that is obtained from an estimator of some distribution of data that is collected in an experiment."
   ]
  },
  {
   "cell_type": "code",
   "execution_count": 19,
   "metadata": {
    "collapsed": true
   },
   "outputs": [],
   "source": [
    "import numpy as np\n",
    "import matplotlib.pyplot as plt\n",
    "plt.rc('font', family='serif', size=80)\n",
    "import pylab\n",
    "%matplotlib inline\n",
    "pylab.rcParams['figure.figsize'] = 8, 8"
   ]
  },
  {
   "cell_type": "markdown",
   "metadata": {},
   "source": [
    "First, generate some data that follows an exponential distribution. This will represent the data collected by the experiment."
   ]
  },
  {
   "cell_type": "code",
   "execution_count": 20,
   "metadata": {
    "collapsed": false
   },
   "outputs": [
    {
     "data": {
      "image/png": "[encoded data removed]",
      "text/plain": [
       "<matplotlib.figure.Figure at 0x1071464d0>"
      ]
     },
     "metadata": {},
     "output_type": "display_data"
    }
   ],
   "source": [
    "tau = 1.5 # mean and standard deviation\n",
    "s = np.random.exponential(1/tau, 10000)\n",
    "count, bins, ignored = plt.hist(s, 100, normed=True)"
   ]
  },
  {
   "cell_type": "markdown",
   "metadata": {},
   "source": [
    "Next, estimate the lifetime of this dataset. You could use any appropriate estimator here. For example, a chi-squared fit or a maximum likelihood fit. In this simplified case for an exponential starting from 0, the mean of the distribution is a good estimate for the lifetime."
   ]
  },
  {
   "cell_type": "code",
   "execution_count": 21,
   "metadata": {
    "collapsed": false
   },
   "outputs": [
    {
     "name": "stdout",
     "output_type": "stream",
     "text": [
      "1.51920369118\n"
     ]
    }
   ],
   "source": [
    "tau_estimate = 1/np.mean(s)\n",
    "print tau_estimate"
   ]
  },
  {
   "cell_type": "markdown",
   "metadata": {},
   "source": [
    "Now we would like an estimate of the uncertainty on this quantity. This can be done by using a Monte Carlo technique where we use the estimate of the lifetime from above to create a new exponential distribution from which we draw many samples. For each new synthetic (toy) dataset that we draw, we compute the estimate for the lifetime using the same method as was used on the original dataset."
   ]
  },
  {
   "cell_type": "code",
   "execution_count": 22,
   "metadata": {
    "collapsed": false
   },
   "outputs": [],
   "source": [
    "N_toys = 1000\n",
    "toy_tau_estimates = np.zeros(N_toys)\n",
    "for i in range(N_toys):\n",
    "    toy_s = np.random.exponential(1/tau_estimate, 10000)\n",
    "    toy_tau_estimates[i] = 1/np.mean(toy_s)"
   ]
  },
  {
   "cell_type": "markdown",
   "metadata": {},
   "source": [
    "Let's plot the distribution of toy estimates of the lifetime. The distribution of these should have the same distribution as that of the true (i.e., nature) distribution of datasets and the width of the distribution can be used as an estimate of the uncertainty on the lifetime."
   ]
  },
  {
   "cell_type": "code",
   "execution_count": 23,
   "metadata": {
    "collapsed": false
   },
   "outputs": [
    {
     "data": {
      "image/png": "[encoded data removed]",
      "text/plain": [
       "<matplotlib.figure.Figure at 0x107146590>"
      ]
     },
     "metadata": {},
     "output_type": "display_data"
    }
   ],
   "source": [
    "count1, bins1, ignored1 = plt.hist(toy_tau_estimates, 30, normed=True)"
   ]
  },
  {
   "cell_type": "code",
   "execution_count": 24,
   "metadata": {
    "collapsed": false
   },
   "outputs": [
    {
     "name": "stdout",
     "output_type": "stream",
     "text": [
      "lifetime = 1.519 +- 0.015\n"
     ]
    }
   ],
   "source": [
    "print \"lifetime = %0.3f +- %0.3f\" % (tau_estimate, np.std(toy_tau_estimates))"
   ]
  },
  {
   "cell_type": "markdown",
   "metadata": {},
   "source": [
    "The more toy datasets we generate the more precisely we will know the value of the uncertainty. It needs to be remembered that the value of the uncertainty relates to the size of the dataset that we started with."
   ]
  },
  {
   "cell_type": "code",
   "execution_count": null,
   "metadata": {
    "collapsed": true
   },
   "outputs": [],
   "source": []
  }
 ],
 "metadata": {
  "kernelspec": {
   "display_name": "Python 2",
   "language": "python",
   "name": "python2"
  },
  "language_info": {
   "codemirror_mode": {
    "name": "ipython",
    "version": 2
   },
   "file_extension": ".py",
   "mimetype": "text/x-python",
   "name": "python",
   "nbconvert_exporter": "python",
   "pygments_lexer": "ipython2",
   "version": "2.7.10"
  }
 },
 "nbformat": 4,
 "nbformat_minor": 0
}
