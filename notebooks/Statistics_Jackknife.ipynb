{
 "cells": [
  {
   "cell_type": "markdown",
   "metadata": {},
   "source": [
    "# Statistics: Example of using the jackknife method to determine the bias and standard error of an estimator of a distribution"
   ]
  },
  {
   "cell_type": "markdown",
   "metadata": {},
   "source": [
    "Jackknifing is a method that can be used to estimate the accuracy of an estimator of a distribution and any potential bias. It refers to any method that relies on random sampling with replacement. For example, the estimator that you are interested in could be the mean of a distribution. Jackknifing allows us to calculate the uncertainty on that mean and to get an estimate of the bias. There is a lot of online information about this, what follows is just a simple example where we generate N events from a Gaussian distribution with mean $\\mu$ and width $\\sigma$ and use jackknifing to get the uncertainty on the mean."
   ]
  },
  {
   "cell_type": "code",
   "execution_count": 82,
   "metadata": {
    "collapsed": false
   },
   "outputs": [],
   "source": [
    "import numpy as np\n",
    "import matplotlib.pyplot as plt\n",
    "plt.rc('font', family='serif', size=80)\n",
    "import pylab\n",
    "%matplotlib inline\n",
    "pylab.rcParams['figure.figsize'] = 8, 8"
   ]
  },
  {
   "cell_type": "code",
   "execution_count": 83,
   "metadata": {
    "collapsed": false
   },
   "outputs": [
    {
     "data": {
      "text/plain": [
       "[<matplotlib.lines.Line2D at 0x105c71a10>]"
      ]
     },
     "execution_count": 83,
     "metadata": {},
     "output_type": "execute_result"
    },
    {
     "data": {
      "image/png": "[encoded data removed]",
      "text/plain": [
       "<matplotlib.figure.Figure at 0x105b5aa10>"
      ]
     },
     "metadata": {},
     "output_type": "display_data"
    }
   ],
   "source": [
    "mu, sigma = 2.5, 0.7 # mean and standard deviation\n",
    "s = np.random.normal(mu, sigma, 10000)\n",
    "count, bins, ignored = plt.hist(s, 30, normed=True)\n",
    "plt.plot(bins, 1/(sigma * np.sqrt(2 * np.pi)) * np.exp( - (bins - mu)**2 / (2 * sigma**2) ), linewidth=2, color='r')"
   ]
  },
  {
   "cell_type": "markdown",
   "metadata": {},
   "source": [
    "Now compute the mean and standard deviation for this sample, these are estimators of the real underlying distribution."
   ]
  },
  {
   "cell_type": "code",
   "execution_count": 84,
   "metadata": {
    "collapsed": false
   },
   "outputs": [],
   "source": [
    "mean = np.mean(s)\n",
    "std_dev = np.std(s)"
   ]
  },
  {
   "cell_type": "markdown",
   "metadata": {},
   "source": [
    "Define the jackknife method to compute the uncertainty on these quantities. There are 10000 datapoints in the dataset, so the jackknife creates 10000 new datasets where, in each one, one element has been removed."
   ]
  },
  {
   "cell_type": "code",
   "execution_count": 96,
   "metadata": {
    "collapsed": false
   },
   "outputs": [],
   "source": [
    "def jackknife( s, f ):\n",
    "    \"\"\"f is the function that computes the estimator of interest\n",
    "    \"\"\"\n",
    "    N = len(s)\n",
    "    estimator_all = f(s)\n",
    "    estimator_jk_mean = 0.\n",
    "    variance = 0.\n",
    "    for i in range(N):\n",
    "        new_s = np.concatenate((s[:i], s[i+1:])) # remove element i from the dataset\n",
    "        estimator_jk = f(new_s) # compute the estimate for this reduced dataset\n",
    "        estimator_jk_mean += estimator_jk\n",
    "        variance += ( estimator_all - estimator_jk )**2 \n",
    "    variance = (N-1)/float(N) * variance\n",
    "    bias = (N-1)*(estimator_jk_mean/float(N) - estimator_all)\n",
    "    return variance, bias"
   ]
  },
  {
   "cell_type": "code",
   "execution_count": 97,
   "metadata": {
    "collapsed": false
   },
   "outputs": [],
   "source": [
    "std_dev_variance, std_dev_bias = jackknife( s, np.std  )\n",
    "mean_variance, mean_bias       = jackknife( s, np.mean )"
   ]
  },
  {
   "cell_type": "markdown",
   "metadata": {},
   "source": [
    "So the final mean and standard deviation of the Gaussian of 10000 events are"
   ]
  },
  {
   "cell_type": "code",
   "execution_count": 101,
   "metadata": {
    "collapsed": false
   },
   "outputs": [
    {
     "name": "stdout",
     "output_type": "stream",
     "text": [
      "mean = 2.498 +- 0.006958\n",
      "std dev = 0.696 +- 0.004962\n"
     ]
    }
   ],
   "source": [
    "print \"mean = %0.3f +- %0.6f\" % (mean, np.sqrt(mean_variance))\n",
    "print \"std dev = %0.3f +- %0.6f\" % (std_dev, np.sqrt(std_dev_variance))"
   ]
  },
  {
   "cell_type": "code",
   "execution_count": 100,
   "metadata": {
    "collapsed": false
   },
   "outputs": [
    {
     "name": "stdout",
     "output_type": "stream",
     "text": [
      "mean bias = 0.000000\n",
      "std dev bias = -0.000052\n"
     ]
    }
   ],
   "source": [
    "print \"mean bias = %0.6f\" % (mean_bias)\n",
    "print \"std dev bias = %0.6f\" % (std_dev_bias)"
   ]
  },
  {
   "cell_type": "markdown",
   "metadata": {},
   "source": [
    "There are, of course, simpler ways of computing these quantities in this simplified example, but it demonstrates the method."
   ]
  },
  {
   "cell_type": "code",
   "execution_count": null,
   "metadata": {
    "collapsed": false
   },
   "outputs": [],
   "source": []
  }
 ],
 "metadata": {
  "kernelspec": {
   "display_name": "Python 2",
   "language": "python",
   "name": "python2"
  },
  "language_info": {
   "codemirror_mode": {
    "name": "ipython",
    "version": 2
   },
   "file_extension": ".py",
   "mimetype": "text/x-python",
   "name": "python",
   "nbconvert_exporter": "python",
   "pygments_lexer": "ipython2",
   "version": "2.7.10"
  }
 },
 "nbformat": 4,
 "nbformat_minor": 0
}
